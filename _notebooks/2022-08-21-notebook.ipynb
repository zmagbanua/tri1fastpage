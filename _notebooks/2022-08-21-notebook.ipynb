msg = "Hello world"
print(msg)
msg = "Welcome to my jupyter notebook"
print(msg)
